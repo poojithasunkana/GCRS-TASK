{
 "cells": [
  {
   "cell_type": "code",
   "execution_count": 40,
   "id": "daa2b3e0-5954-4187-8bc9-3aaa56b9cff8",
   "metadata": {},
   "outputs": [
    {
     "name": "stdout",
     "output_type": "stream",
     "text": [
      "Conversion successful. CSV file is output.csv\n"
     ]
    }
   ],
   "source": [
    "import pygrib\n",
    "import pandas as pd\n",
    "\n",
    "# Specify the path to your GRIB file\n",
    "grib_file = r'C:\\Users\\praka\\Downloads\\Jupyter\\2007_11ERA5.grib'\n",
    "\n",
    "\n",
    "grbs = pygrib.open(grib_file)\n",
    "\n",
    "# Extract data and create a Pandas DataFrame\n",
    "data = []\n",
    "for grb in grbs:\n",
    "    temp= grb.values  \n",
    "    lat, lon = grb.latlons()  # Get the latitudes and longitudes\n",
    "    dates= grb.validDate\n",
    "    for i in range(len(lat)):\n",
    "        for j in range(len(lon)):\n",
    "            data.append([dates.strftime('%Y-%m-%d %H:%M:%S'),\n",
    "                         lat[i, j], \n",
    "                         lon[i, j],\n",
    "                         temp[i, j]])\n",
    "\n",
    "# Close the GRIB file\n",
    "grbs.close()\n",
    "\n",
    "# Create a DataFrame\n",
    "df = pd.DataFrame(data,columns=['Date', 'Latitude', 'Longitude', 'Temperature'])\n",
    "\n",
    "\n",
    "csv_file = 'output.csv'\n",
    "df.to_csv(csv_file, index=False, date_format='%Y-%m-%d %H:%M:%S')\n",
    "\n",
    "print(f'Conversion successful. CSV file is {csv_file}')\n"
   ]
  },
  {
   "cell_type": "code",
   "execution_count": 41,
   "id": "fcf42654-a23b-4f89-b89f-3ea5c498d546",
   "metadata": {},
   "outputs": [
    {
     "name": "stdout",
     "output_type": "stream",
     "text": [
      "Index(['Date', 'Latitude', 'Longitude', 'Temperature'], dtype='object')\n",
      "-----------***********-----------**************------------\n",
      "                      Date  Latitude  Longitude  Temperature\n",
      "0      2007-01-01 00:00:00      72.7      37.18   275.009645\n",
      "1      2007-01-01 01:00:00      72.7      37.18   275.160496\n",
      "2      2007-01-01 02:00:00      72.7      37.18   275.265923\n",
      "3      2007-01-01 03:00:00      72.7      37.18   275.314355\n",
      "4      2007-01-01 04:00:00      72.7      37.18   275.299039\n",
      "...                    ...       ...        ...          ...\n",
      "43819  2011-12-31 19:00:00      72.7      37.18   270.789167\n",
      "43820  2011-12-31 20:00:00      72.7      37.18   271.111033\n",
      "43821  2011-12-31 21:00:00      72.7      37.18   271.387905\n",
      "43822  2011-12-31 22:00:00      72.7      37.18   271.697633\n",
      "43823  2011-12-31 23:00:00      72.7      37.18   272.045170\n",
      "\n",
      "[43824 rows x 4 columns]\n"
     ]
    }
   ],
   "source": [
    "df = pd.read_csv(csv_file)\n",
    "print(df.columns)\n",
    "\n",
    "print(f'-----------***********-----------**************------------')\n",
    "\n",
    "print(df)"
   ]
  },
  {
   "cell_type": "code",
   "execution_count": 42,
   "id": "7c7aeb94-c3e4-4e3b-860c-d2072a0ade6e",
   "metadata": {},
   "outputs": [
    {
     "name": "stdout",
     "output_type": "stream",
     "text": [
      "Date formatting successful. CSV file is formatted_date_output.csv\n"
     ]
    }
   ],
   "source": [
    "df['Date'] = pd.to_datetime(df['Date'])\n",
    "df['Date'] = df['Date'].dt.strftime('%d%b%Y')\n",
    "\n",
    "formatted_date_file = 'formatted_date_output.csv'\n",
    "df.to_csv(formatted_date_file, index=False)\n",
    "\n",
    "print(f'Date formatting successful. CSV file is {formatted_date_file}')"
   ]
  },
  {
   "cell_type": "code",
   "execution_count": 51,
   "id": "761ad1c4-a3f7-4411-80a2-17e37e5351b0",
   "metadata": {},
   "outputs": [
    {
     "name": "stdout",
     "output_type": "stream",
     "text": [
      "final CSV file is pivoted_output.csv\n"
     ]
    }
   ],
   "source": [
    "pivot_df = df.pivot_table(index=['Latitude', 'Longitude'], columns='Date', values='Temperature')\n",
    "\n",
    "# Reset index to turn Latitude and Longitude into columns again\n",
    "pivot_df.reset_index(inplace=True)\n",
    "\n",
    "date_columns = pd.to_datetime(pivot_df.columns[2:], format='%d%b%Y')  # Convert date columns to datetime\n",
    "sorted_date_columns = date_columns.sort_values()  # Sort date columns\n",
    "\n",
    "# Reorder the columns in the DataFrame\n",
    "pivot_df = pivot_df[['Latitude', 'Longitude'] + sorted_date_columns.strftime('%d%b%Y').tolist()]\n",
    "\n",
    "# Save the pivoted DataFrame to a CSV file\n",
    "pivot_file = 'pivoted_output.csv'\n",
    "pivot_df.to_csv(pivot_file, index=False)\n",
    "\n",
    "print(f'final CSV file is {pivot_csv_file}')"
   ]
  },
  {
   "cell_type": "code",
   "execution_count": null,
   "id": "7388fba5-5396-4456-a400-c9aab3d4482b",
   "metadata": {},
   "outputs": [],
   "source": []
  }
 ],
 "metadata": {
  "kernelspec": {
   "display_name": "Python 3 (ipykernel)",
   "language": "python",
   "name": "python3"
  },
  "language_info": {
   "codemirror_mode": {
    "name": "ipython",
    "version": 3
   },
   "file_extension": ".py",
   "mimetype": "text/x-python",
   "name": "python",
   "nbconvert_exporter": "python",
   "pygments_lexer": "ipython3",
   "version": "3.8.19"
  }
 },
 "nbformat": 4,
 "nbformat_minor": 5
}
